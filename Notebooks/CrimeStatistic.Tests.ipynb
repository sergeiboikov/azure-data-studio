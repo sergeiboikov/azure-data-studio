{
    "metadata": {
        "kernelspec": {
            "name": "python3",
            "display_name": "Python 3",
            "language": "python"
        },
        "language_info": {
            "name": "python",
            "version": "3.8.5",
            "mimetype": "text/x-python",
            "codemirror_mode": {
                "name": "ipython",
                "version": 3
            },
            "pygments_lexer": "ipython3",
            "nbconvert_exporter": "python",
            "file_extension": ".py"
        }
    },
    "nbformat_minor": 2,
    "nbformat": 4,
    "cells": [
        {
            "cell_type": "code",
            "source": [
                "# RU_BI_LAB_SSIS (source)\r\n",
                "RU_BI_LAB_SSIS_server_name = r\"localhost\"\r\n",
                "RU_BI_LAB_SSIS_db_name = r\"RU.BI.LAB.SSIS.DB\"\r\n",
                "# CrimeStatistic_DWH (destination)\r\n",
                "CrimeStatistic_DWH_server_name = r\"localhost\"\r\n",
                "CrimeStatistic_DWH_db_name = r\"CrimeStatistic.DWH\"\r\n",
                "undoc_files_path = r\"C:\\RU.BI.LAB.SSIS\\Source files\\undoc-changed\\csv\"\r\n",
                "worldbank_files_path = r\"C:\\RU.BI.LAB.SSIS\\Source files\\worldbank-changed\"\r\n",
                "worldbank_file_name = r\"1.csv\""
            ],
            "metadata": {
                "azdata_cell_guid": "22293798-6650-4ed3-9d67-d37e4e6168aa"
            },
            "outputs": [],
            "execution_count": null
        },
        {
            "cell_type": "code",
            "source": [
                "%%HTML\r\n",
                "<style type=\"text/css\">\r\n",
                "    table.dataframe td, table.dataframe th {\r\n",
                "        border-style: solid;\r\n",
                "    }\r\n",
                "</style>"
            ],
            "metadata": {
                "azdata_cell_guid": "e8fd437e-8edf-4278-a2a4-ee61e1105a1d",
                "tags": []
            },
            "outputs": [],
            "execution_count": null
        },
        {
            "cell_type": "markdown",
            "source": [
                "## **BI.LAB.SSIS.task.02**\n",
                "\n",
                "**Subtask.02.01. Test** **ExtractCountryRef.dtsx package**\n",
                "\n",
                "Test.02.01.01. Compare rows count in source db RU.BI.LAB.SSIS to staging.countriesref\\_untyped table"
            ],
            "metadata": {
                "azdata_cell_guid": "b0f52ba8-0ff7-4d77-8d2c-0638910f0fad"
            }
        },
        {
            "cell_type": "code",
            "source": [
                "from os import listdir\r\n",
                "from os.path import isfile, join\r\n",
                "import pandas as pd\r\n",
                "import numpy as np\r\n",
                "import pyodbc\r\n",
                "cnxn_src = pyodbc.connect(\"Driver={SQL Server Native Client 11.0};\"\r\n",
                "                      \"Server=\"+RU_BI_LAB_SSIS_server_name+\";\"\r\n",
                "                      \"Database=\"+RU_BI_LAB_SSIS_db_name+\";\"\r\n",
                "                      \"Trusted_Connection=yes;\")\r\n",
                "\r\n",
                "cnxn_dst = pyodbc.connect(\"Driver={SQL Server Native Client 11.0};\"\r\n",
                "                      \"Server=\"+CrimeStatistic_DWH_server_name+\";\"\r\n",
                "                      \"Database=\"+CrimeStatistic_DWH_db_name+\";\"\r\n",
                "                      \"Trusted_Connection=yes;\")                      \r\n",
                "df_source = pd.read_sql_query(\"SELECT count(1) AS [RowCount_source] FROM [dbo].[CountryRef]\", cnxn_src)\r\n",
                "df_dwh_untyped = pd.read_sql_query(\"SELECT count(1) AS [RowCount_untyped] FROM [staging].[countriesref_untyped]\", cnxn_dst)\r\n",
                "df_result = df_source.join(df_dwh_untyped)\r\n",
                "df_result['TestResult'] = np.where(df_result['RowCount_source'] == df_result['RowCount_untyped'], 'SUCCESS', 'FAILED')\r\n",
                "df_result.index += 1\r\n",
                "df_result"
            ],
            "metadata": {
                "azdata_cell_guid": "c2c2c04d-3444-4c35-9a5f-632c304f0575",
                "tags": []
            },
            "outputs": [],
            "execution_count": null
        },
        {
            "cell_type": "markdown",
            "source": [
                "## **BI.LAB.SSIS.task.04**\n",
                "\n",
                "**Subtask.04.01.** **Test Load\\_Staging\\_UNCrime.dtsx package**\n",
                "\n",
                "Test.04.01.01. Compare rows count in source UNCrime files to staging.uncrime\\_untyped"
            ],
            "metadata": {
                "azdata_cell_guid": "6b931db8-2d42-427a-8b04-dc063b556fd8"
            }
        },
        {
            "cell_type": "code",
            "source": [
                "from os import listdir\r\n",
                "from os.path import isfile, join\r\n",
                "import pandas as pd\r\n",
                "import numpy as np\r\n",
                "import pyodbc\r\n",
                "cnxn = pyodbc.connect(\"Driver={SQL Server Native Client 11.0};\"\r\n",
                "                      \"Server=\"+CrimeStatistic_DWH_server_name+\";\"\r\n",
                "                      \"Database=\"+CrimeStatistic_DWH_db_name+\";\"\r\n",
                "                      \"Trusted_Connection=yes;\")\r\n",
                "df_dwh_untyped = pd.read_sql_query(\"SELECT [FileName], count(1) as [RowCounts_uncrime_untyped] FROM staging.uncrime_untyped GROUP BY [FileName] ORDER BY [FileName]\", cnxn)\r\n",
                "df_csv = pd.DataFrame({'FileName': [], 'RowCounts_file': pd.Series([], dtype=np.dtype(\"int32\"))})\r\n",
                "onlyfiles = [f for f in listdir(undoc_files_path) if isfile(join(undoc_files_path, f))]\r\n",
                "for f in onlyfiles:\r\n",
                "    df = pd.read_csv(undoc_files_path + \"\\\\\" + f)\r\n",
                "    df_csv = df_csv.append({'FileName': f, 'RowCounts_file': len(df.index)-1}, ignore_index = True) \r\n",
                "df_result = df_csv.join(df_dwh_untyped.set_index('FileName'), on='FileName')\r\n",
                "df_result['TestResult'] = np.where(df_result['RowCounts_file'] == df_result['RowCounts_uncrime_untyped'], 'SUCCESS', 'FAILED')\r\n",
                "df_result.index += 1\r\n",
                "df_result"
            ],
            "metadata": {
                "azdata_cell_guid": "bce200f8-7a08-4c2c-905e-391597a7cedf",
                "tags": []
            },
            "outputs": [],
            "execution_count": null
        },
        {
            "cell_type": "markdown",
            "source": [
                "## **BI.LAB.SSIS.task.05**\n",
                "\n",
                "**Subtask.05.01. Test Load\\_staging\\_WorldBank.dtsx package**\n",
                "\n",
                "Test.05.01.01. Compare rows count in source WorldBank file to staging.population\\_untyped"
            ],
            "metadata": {
                "azdata_cell_guid": "f4608243-b6fd-43a3-9029-7fc6f4799c0e"
            }
        },
        {
            "cell_type": "code",
            "source": [
                "from os import listdir\r\n",
                "from os.path import isfile, join\r\n",
                "import pandas as pd\r\n",
                "import numpy as np\r\n",
                "import pyodbc\r\n",
                "cnxn = pyodbc.connect(\"Driver={SQL Server Native Client 11.0};\"\r\n",
                "                      \"Server=\"+CrimeStatistic_DWH_server_name+\";\"\r\n",
                "                      \"Database=\"+CrimeStatistic_DWH_db_name+\";\"\r\n",
                "                      \"Trusted_Connection=yes;\")\r\n",
                "df_dwh_untyped = pd.read_sql_query(\"SELECT [FileName], count(1) as [RowCounts_population_untyped] FROM staging.population_untyped GROUP BY [FileName] ORDER BY [FileName]\", cnxn)\r\n",
                "df_csv = pd.DataFrame({'FileName': [], 'RowCounts_file': pd.Series([], dtype=np.dtype(\"int32\"))})\r\n",
                "wb_files_path = worldbank_files_path\r\n",
                "file_name = worldbank_file_name\r\n",
                "df = pd.read_csv(wb_files_path + \"\\\\\" + file_name, skiprows=3)\r\n",
                "df_csv = df_csv.append({'FileName': file_name, 'RowCounts_file': len(df.index)-1}, ignore_index = True) \r\n",
                "df_result = df_csv.join(df_dwh_untyped.set_index('FileName'), on='FileName')\r\n",
                "df_result['TestResult'] = np.where(df_result['RowCounts_file'] == df_result['RowCounts_population_untyped'], 'SUCCESS', 'FAILED')\r\n",
                "df_result.index += 1\r\n",
                "df_result"
            ],
            "metadata": {
                "azdata_cell_guid": "9022d423-8df8-483b-bf81-66dbde043441",
                "tags": []
            },
            "outputs": [],
            "execution_count": null
        },
        {
            "cell_type": "markdown",
            "source": [
                "## **BI.LAB.SSIS.task.06**\n",
                "\n",
                "**Subtask.06.01.** **Test Transform\\_staging\\_CountryRef.dtsx package**\n",
                "\n",
                "Test.06.01.01. Compare rows count in \\[staging\\].\\[countriesref\\_untyped\\] to staging.CountryRef"
            ],
            "metadata": {
                "azdata_cell_guid": "3d61494f-5112-4cff-87cc-5446565a7799"
            }
        },
        {
            "cell_type": "code",
            "source": [
                "from os import listdir\r\n",
                "from os.path import isfile, join\r\n",
                "import pandas as pd\r\n",
                "import numpy as np\r\n",
                "import pyodbc\r\n",
                "cnxn_dst = pyodbc.connect(\"Driver={SQL Server Native Client 11.0};\"\r\n",
                "                      \"Server=\"+CrimeStatistic_DWH_server_name+\";\"\r\n",
                "                      \"Database=\"+CrimeStatistic_DWH_db_name+\";\"\r\n",
                "                      \"Trusted_Connection=yes;\")                      \r\n",
                "df_dwh_untyped = pd.read_sql_query(\"SELECT count(1) AS [RowCount_untyped] FROM [staging].[countriesref_untyped]\", cnxn_dst)\r\n",
                "df_dwh_countryref = pd.read_sql_query(\"SELECT count(1) AS [RowCount_CountryRef] FROM [staging].[CountryRef]\", cnxn_dst)\r\n",
                "df_result = df_dwh_untyped.join(df_dwh_countryref)\r\n",
                "df_result['TestResult'] = np.where(df_result['RowCount_untyped'] == df_result['RowCount_CountryRef'], 'SUCCESS', 'FAILED')\r\n",
                "df_result.index += 1\r\n",
                "df_result"
            ],
            "metadata": {
                "azdata_cell_guid": "b64bbe07-d1d0-4d01-865e-d715702c5c40",
                "tags": []
            },
            "outputs": [],
            "execution_count": null
        },
        {
            "cell_type": "markdown",
            "source": [
                "**Subtask.06.02. Test Transform\\_staging\\_Population.dtsx package**\n",
                "\n",
                "Test.06.02.01. Compare row count in staging.population\\_untyped to staging.population\\_typed"
            ],
            "metadata": {
                "azdata_cell_guid": "4965606f-a28f-49fc-ba40-751d6c171375"
            }
        },
        {
            "cell_type": "code",
            "source": [
                "from os import listdir\r\n",
                "from os.path import isfile, join\r\n",
                "import pandas as pd\r\n",
                "import numpy as np\r\n",
                "import pyodbc\r\n",
                "cnxn_dst = pyodbc.connect(\"Driver={SQL Server Native Client 11.0};\"\r\n",
                "                      \"Server=\"+CrimeStatistic_DWH_server_name+\";\"\r\n",
                "                      \"Database=\"+CrimeStatistic_DWH_db_name+\";\"\r\n",
                "                      \"Trusted_Connection=yes;\")   \r\n",
                "df_result = pd.read_sql_query(\"\"\"WITH pu AS (\r\n",
                "SELECT [FileName], count(1) as [RowCount]\r\n",
                "FROM staging.population_untyped\r\n",
                "GROUP BY [FileName]),\r\n",
                "pt AS (\r\n",
                "SELECT [FileName], count(1) as [RowCount]\r\n",
                "FROM staging.population_typed\r\n",
                "GROUP BY [FileName])\r\n",
                "SELECT pu.[FileName]\r\n",
                "\t , pu.[RowCount] AS [RowCount_untyped]\r\n",
                "\t , pt.[RowCount] AS [RowCount_typed]\r\n",
                "\t , CASE WHEN pu.[RowCount] = pt.[RowCount] THEN N'SUCCESS' ELSE N'FAILED' END AS [TestResult]\r\n",
                "FROM pu\r\n",
                "INNER JOIN pt on pt.[FileName] = pu.[FileName]\"\"\", cnxn_dst)\r\n",
                "df_result\r\n",
                ""
            ],
            "metadata": {
                "azdata_cell_guid": "4b09128c-9273-41b9-8a0f-e64f5b298f30",
                "tags": []
            },
            "outputs": [],
            "execution_count": null
        },
        {
            "cell_type": "markdown",
            "source": [
                "Test.06.02.02. Compare sum population in staging.population\\_untyped to staging.population\\_typed"
            ],
            "metadata": {
                "azdata_cell_guid": "0a97b6bd-58bb-47ea-8b0b-46e5132abbdc"
            }
        },
        {
            "cell_type": "code",
            "source": [
                "from os import listdir\r\n",
                "from os.path import isfile, join\r\n",
                "import pandas as pd\r\n",
                "import numpy as np\r\n",
                "import pyodbc\r\n",
                "cnxn_dst = pyodbc.connect(\"Driver={SQL Server Native Client 11.0};\"\r\n",
                "                      \"Server=\"+CrimeStatistic_DWH_server_name+\";\"\r\n",
                "                      \"Database=\"+CrimeStatistic_DWH_db_name+\";\"\r\n",
                "                      \"Trusted_Connection=yes;\")   \r\n",
                "df_result = pd.read_sql_query(\"\"\"WITH pt AS(\r\n",
                "SELECT ISNULL(SUM([1960]), 0)\r\n",
                "      +ISNULL(SUM([1961]), 0)\r\n",
                "      +ISNULL(SUM([1962]), 0)\r\n",
                "      +ISNULL(SUM([1963]), 0)\r\n",
                "      +ISNULL(SUM([1964]), 0)\r\n",
                "      +ISNULL(SUM([1965]), 0)\r\n",
                "      +ISNULL(SUM([1966]), 0)\r\n",
                "      +ISNULL(SUM([1967]), 0)\r\n",
                "      +ISNULL(SUM([1968]), 0)\r\n",
                "      +ISNULL(SUM([1969]), 0)\r\n",
                "      +ISNULL(SUM([1970]), 0)\r\n",
                "      +ISNULL(SUM([1971]), 0)\r\n",
                "      +ISNULL(SUM([1972]), 0)\r\n",
                "      +ISNULL(SUM([1973]), 0)\r\n",
                "      +ISNULL(SUM([1974]), 0)\r\n",
                "      +ISNULL(SUM([1975]), 0)\r\n",
                "      +ISNULL(SUM([1976]), 0)\r\n",
                "      +ISNULL(SUM([1977]), 0)\r\n",
                "      +ISNULL(SUM([1978]), 0)\r\n",
                "      +ISNULL(SUM([1979]), 0)\r\n",
                "      +ISNULL(SUM([1980]), 0)\r\n",
                "      +ISNULL(SUM([1981]), 0)\r\n",
                "      +ISNULL(SUM([1982]), 0)\r\n",
                "      +ISNULL(SUM([1983]), 0)\r\n",
                "      +ISNULL(SUM([1984]), 0)\r\n",
                "      +ISNULL(SUM([1985]), 0)\r\n",
                "      +ISNULL(SUM([1986]), 0)\r\n",
                "      +ISNULL(SUM([1987]), 0)\r\n",
                "      +ISNULL(SUM([1988]), 0)\r\n",
                "      +ISNULL(SUM([1989]), 0)\r\n",
                "      +ISNULL(SUM([1990]), 0)\r\n",
                "      +ISNULL(SUM([1991]), 0)\r\n",
                "      +ISNULL(SUM([1992]), 0)\r\n",
                "      +ISNULL(SUM([1993]), 0)\r\n",
                "      +ISNULL(SUM([1994]), 0)\r\n",
                "      +ISNULL(SUM([1995]), 0)\r\n",
                "      +ISNULL(SUM([1996]), 0)\r\n",
                "      +ISNULL(SUM([1997]), 0)\r\n",
                "      +ISNULL(SUM([1998]), 0)\r\n",
                "      +ISNULL(SUM([1999]), 0)\r\n",
                "      +ISNULL(SUM([2000]), 0)\r\n",
                "      +ISNULL(SUM([2001]), 0)\r\n",
                "      +ISNULL(SUM([2002]), 0)\r\n",
                "      +ISNULL(SUM([2003]), 0)\r\n",
                "      +ISNULL(SUM([2004]), 0)\r\n",
                "      +ISNULL(SUM([2005]), 0)\r\n",
                "      +ISNULL(SUM([2006]), 0)\r\n",
                "      +ISNULL(SUM([2007]), 0)\r\n",
                "      +ISNULL(SUM([2008]), 0)\r\n",
                "      +ISNULL(SUM([2009]), 0)\r\n",
                "      +ISNULL(SUM([2010]), 0)\r\n",
                "      +ISNULL(SUM([2011]), 0)\r\n",
                "      +ISNULL(SUM([2012]), 0)\r\n",
                "      +ISNULL(SUM([2013]), 0)\r\n",
                "      +ISNULL(SUM([2014]), 0)\r\n",
                "      +ISNULL(SUM([2015]), 0)\r\n",
                "      +ISNULL(SUM([2016]), 0)\r\n",
                "      +ISNULL(SUM([2017]), 0)\r\n",
                "      +ISNULL(SUM([2018]), 0)\r\n",
                "      +ISNULL(SUM([2019]), 0) AS [SumPopulation]\r\n",
                "  FROM [staging].[population_typed]),\r\n",
                "pu AS (\r\n",
                "SELECT ISNULL(SUM([Population]), 0) AS [SumPopulation] \r\n",
                "FROM [staging].[population_unpivoted])\r\n",
                "SELECT pt.[SumPopulation] AS [SumPopulation_typed]\r\n",
                "     , pu.[SumPopulation] AS [SumPopulation_unpivoted]\r\n",
                "\t , CASE WHEN pt.[SumPopulation] = pu.[SumPopulation] THEN 'SUCCESS' ELSE 'FAILED' END AS [TestResult]\r\n",
                "  FROM  pt, pu\"\"\", cnxn_dst)\r\n",
                "df_result"
            ],
            "metadata": {
                "azdata_cell_guid": "06420b26-ead1-4a4f-9c9a-c612575812fc",
                "tags": []
            },
            "outputs": [],
            "execution_count": null
        },
        {
            "cell_type": "markdown",
            "source": [
                "**Subtask.06.03. Test Transform\\_staging\\_UNCrime.dtsx package**\n",
                "\n",
                "Test.06.03.01. Compare rows count in \\[staging\\].\\[uncrime\\_untyped\\] to \\[staging\\].\\[uncrime\\_typed\\]"
            ],
            "metadata": {
                "azdata_cell_guid": "01da1f8f-d53d-4123-967a-6f36238ddecc"
            }
        },
        {
            "cell_type": "code",
            "source": [
                "from os import listdir\r\n",
                "from os.path import isfile, join\r\n",
                "import pandas as pd\r\n",
                "import numpy as np\r\n",
                "import pyodbc\r\n",
                "cnxn_dst = pyodbc.connect(\"Driver={SQL Server Native Client 11.0};\"\r\n",
                "                      \"Server=\"+CrimeStatistic_DWH_server_name+\";\"\r\n",
                "                      \"Database=\"+CrimeStatistic_DWH_db_name+\";\"\r\n",
                "                      \"Trusted_Connection=yes;\")   \r\n",
                "df_result = pd.read_sql_query(\"\"\"WITH pu AS (\r\n",
                "SELECT [FileName], count(1) as [RowCount]\r\n",
                "FROM staging.uncrime_untyped\r\n",
                "GROUP BY [FileName]),\r\n",
                "pt AS (\r\n",
                "SELECT [FileName], count(1) as [RowCount]\r\n",
                "FROM staging.uncrime_typed\r\n",
                "GROUP BY [FileName])\r\n",
                "SELECT pu.[FileName]\r\n",
                "\t , pu.[RowCount] AS [RowCount_untyped]\r\n",
                "\t , pt.[RowCount] AS [RowCount_typed]\r\n",
                "\t , CASE WHEN pu.[RowCount] = pt.[RowCount] THEN N'SUCCESS' ELSE N'FAILED' END AS [TestResult]\r\n",
                "FROM pu\r\n",
                "INNER JOIN pt on pt.[FileName] = pu.[FileName]\"\"\", cnxn_dst)\r\n",
                "df_result"
            ],
            "metadata": {
                "azdata_cell_guid": "ff42c82a-9b0e-4d9d-8107-5f93684e775f",
                "tags": []
            },
            "outputs": [],
            "execution_count": null
        },
        {
            "cell_type": "markdown",
            "source": [
                "**Subtask.06.04. Test Load\\_dwh\\_FactPopulation.dtsx package**\n",
                "\n",
                "Test.06.04.01. Compare sum population in \\[staging\\].\\[population\\_unpivoted\\] to \\[dwh\\].\\[FactPopulation\\]"
            ],
            "metadata": {
                "azdata_cell_guid": "a52bbd1a-219c-4b1f-97a9-da2fcdf993a1"
            }
        },
        {
            "cell_type": "code",
            "source": [
                "from os import listdir\r\n",
                "from os.path import isfile, join\r\n",
                "import pandas as pd\r\n",
                "import numpy as np\r\n",
                "import pyodbc\r\n",
                "cnxn_dst = pyodbc.connect(\"Driver={SQL Server Native Client 11.0};\"\r\n",
                "                      \"Server=\"+CrimeStatistic_DWH_server_name+\";\"\r\n",
                "                      \"Database=\"+CrimeStatistic_DWH_db_name+\";\"\r\n",
                "                      \"Trusted_Connection=yes;\")   \r\n",
                "df_result = pd.read_sql_query(\"\"\"WITH pu AS (\r\n",
                "\tSELECT CountryCode, [Year], ISNULL(SUM([Population]), 0) AS [SumPopulation]\r\n",
                "\tFROM [staging].[population_unpivoted]\r\n",
                "\t--NOT COUNTRIES\r\n",
                "\tWHERE CountryCode NOT IN (\r\n",
                "\t 'ARB', 'CEB', 'CHI', 'CSS', 'EAP', 'EAR', 'EAS', 'ECA', 'ECS', 'EMU', 'EUU', 'FCS', 'HIC', 'HPC', 'IBD', 'IBT', 'IDA', 'IDB', 'IDX', 'INX', 'LAC', 'LCN', 'LDC', 'LIC', 'LMC', 'LMY',\r\n",
                "\t 'LTE', 'MEA', 'MIC', 'MNA', 'NAC', 'OED', 'OSS', 'PRE', 'PSS', 'PST', 'SAS', 'SSA', 'SSF', 'SST', 'TEA', 'TEC', 'TLA', 'TMN', 'TSA', 'TSS', 'UMC', 'WLD', 'XKX')\r\n",
                "\tGROUP BY CountryCode, [Year]\r\n",
                "),\r\n",
                "fp AS (\r\n",
                "\tSELECT dg.CountryCode, dd.CalendarYear, ISNULL(SUM(fp2.[Population]), 0) AS [SumPopulation]\r\n",
                "\tFROM [dwh].[FactPopulation] fp2\r\n",
                "\tINNER JOIN dwh.DimGeography dg ON dg.DimGeographyKey = fp2.DimGeographyKey\r\n",
                "\tINNER JOIN dwh.DimDate dd ON dd.DateSK = fp2.DimDateKey\r\n",
                "\tGROUP BY dg.CountryCode, dd.CalendarYear\r\n",
                ")\r\n",
                "SELECT SUM(pu.[SumPopulation]) AS [SumPopulation_unpivoted]\r\n",
                "\t , SUM(fp.[SumPopulation]) AS [SumPopulation_fact]\r\n",
                "\t , CASE WHEN SUM(pu.[SumPopulation]) <> 0 AND SUM(fp.[SumPopulation]) <> 0 AND SUM(pu.[SumPopulation]) = SUM(fp.[SumPopulation]) THEN N'SUCCESS' ELSE N'FAILED' END AS [TestResult]\r\n",
                "FROM pu\r\n",
                "LEFT JOIN fp ON fp.CountryCode = pu.CountryCode\r\n",
                "\tAND fp.CalendarYear = pu.[Year]\"\"\", cnxn_dst)\r\n",
                "df_result"
            ],
            "metadata": {
                "azdata_cell_guid": "0ef62e25-5c92-43aa-86d4-18607bbae343"
            },
            "outputs": [],
            "execution_count": null
        },
        {
            "cell_type": "markdown",
            "source": [
                "**Subtask.06.05. Test** **Load\\_dwh\\_FactCrime.dtsx package**\n",
                "\n",
                "Test.06.05.01. Compare NumberOfCrime in \\[staging\\].\\[uncrime\\_unpivoted\\] to \\[dwh\\].\\[FactCrime\\]"
            ],
            "metadata": {
                "azdata_cell_guid": "424f994e-cd34-4da2-bbe4-8b5bd149ae54"
            }
        },
        {
            "cell_type": "code",
            "source": [
                "from os import listdir\r\n",
                "from os.path import isfile, join\r\n",
                "import pandas as pd\r\n",
                "import numpy as np\r\n",
                "import pyodbc\r\n",
                "cnxn_dst = pyodbc.connect(\"Driver={SQL Server Native Client 11.0};\"\r\n",
                "                      \"Server=\"+CrimeStatistic_DWH_server_name+\";\"\r\n",
                "                      \"Database=\"+CrimeStatistic_DWH_db_name+\";\"\r\n",
                "                      \"Trusted_Connection=yes;\")   \r\n",
                "df_result = pd.read_sql_query(\"\"\"WITH \r\n",
                "  uu AS (SELECT SUM([Count]) AS [NumberOfCrime]\r\n",
                "\t     FROM [staging].[uncrime_unpivoted])\r\n",
                ", fc AS (SELECT SUM(NumberOfCrime) AS [NumberOfCrime]\r\n",
                "\t\t FROM [dwh].[FactCrime])\r\n",
                "SELECT uu.[NumberOfCrime] AS [NumberOfCrime_uncrime_unpivoted]\r\n",
                "\t , fc.[NumberOfCrime] AS [NumberOfCrime_FactCrime]\r\n",
                "\t , CASE WHEN uu.[NumberOfCrime] > 0 AND fc.[NumberOfCrime] > 0 AND uu.[NumberOfCrime] = fc.[NumberOfCrime] THEN N'SUCCESS' ELSE N'FAILED' END AS [TestResult]\r\n",
                "FROM uu, fc\"\"\", cnxn_dst)\r\n",
                "df_result"
            ],
            "metadata": {
                "azdata_cell_guid": "e4337ae9-4d99-46ce-b301-cd4a589383b3"
            },
            "outputs": [],
            "execution_count": null
        },
        {
            "cell_type": "markdown",
            "source": [
                "Test.06.05.02. Check broken values for DimGeographyKey in \\[dwh\\].\\[FactCrime\\]"
            ],
            "metadata": {
                "azdata_cell_guid": "12dc90e7-a3f8-403c-b085-ff6e9eec29af"
            }
        },
        {
            "cell_type": "code",
            "source": [
                "from os import listdir\r\n",
                "from os.path import isfile, join\r\n",
                "import pandas as pd\r\n",
                "import numpy as np\r\n",
                "import pyodbc\r\n",
                "cnxn_dst = pyodbc.connect(\"Driver={SQL Server Native Client 11.0};\"\r\n",
                "                      \"Server=\"+CrimeStatistic_DWH_server_name+\";\"\r\n",
                "                      \"Database=\"+CrimeStatistic_DWH_db_name+\";\"\r\n",
                "                      \"Trusted_Connection=yes;\")   \r\n",
                "df_result = pd.read_sql_query(\"\"\"WITH t AS (\r\n",
                "SELECT N'DimGeographyKey' AS [Key]\r\n",
                "\t , SUM(CASE WHEN fc.DimGeographyKey IS NULL OR dg.DimGeographyKey IS NULL THEN 1 ELSE 0 END) AS [NumberOfBrokenValues]\r\n",
                "FROM [dwh].[FactCrime] fc\r\n",
                "LEFT JOIN [dwh].[DimGeography] dg ON dg.DimGeographyKey = fc.DimGeographyKey)\r\n",
                "SELECT t.[Key]\r\n",
                "\t , t.[NumberOfBrokenValues]\r\n",
                "\t , CASE WHEN t.[NumberOfBrokenValues] = 0 THEN N'SUCCESS' ELSE N'FAILED' END AS [TestResult]\r\n",
                "FROM t\"\"\", cnxn_dst)\r\n",
                "df_result"
            ],
            "metadata": {
                "azdata_cell_guid": "5e3cbef3-1ac6-4966-b1d8-509de810be0b"
            },
            "outputs": [],
            "execution_count": null
        },
        {
            "cell_type": "markdown",
            "source": [
                "Test.06.05.03. Check broken values for DimDateKey in \\[dwh\\].\\[FactCrime\\]"
            ],
            "metadata": {
                "azdata_cell_guid": "f351234a-0b00-46bd-9b07-b31f78f159b5"
            }
        },
        {
            "cell_type": "code",
            "source": [
                "from os import listdir\r\n",
                "from os.path import isfile, join\r\n",
                "import pandas as pd\r\n",
                "import numpy as np\r\n",
                "import pyodbc\r\n",
                "cnxn_dst = pyodbc.connect(\"Driver={SQL Server Native Client 11.0};\"\r\n",
                "                      \"Server=\"+CrimeStatistic_DWH_server_name+\";\"\r\n",
                "                      \"Database=\"+CrimeStatistic_DWH_db_name+\";\"\r\n",
                "                      \"Trusted_Connection=yes;\")   \r\n",
                "df_result = pd.read_sql_query(\"\"\"WITH t AS (\r\n",
                "SELECT N'DimDateKey' AS [Key]\r\n",
                "\t , SUM(CASE WHEN fc.DimDateKey IS NULL OR dg.DateSK IS NULL THEN 1 ELSE 0 END) AS [NumberOfBrokenValues]\r\n",
                "FROM [dwh].[FactCrime] fc\r\n",
                "LEFT JOIN [dwh].[DimDate] dg ON dg.DateSK = fc.DimDateKey)\r\n",
                "SELECT t.[Key]\r\n",
                "\t , t.[NumberOfBrokenValues]\r\n",
                "\t , CASE WHEN t.[NumberOfBrokenValues] = 0 THEN N'SUCCESS' ELSE N'FAILED' END AS [TestResult]\r\n",
                "FROM t\"\"\", cnxn_dst)\r\n",
                "df_result"
            ],
            "metadata": {
                "azdata_cell_guid": "fb733de3-c7a0-484c-ac1c-e058de4399d1"
            },
            "outputs": [],
            "execution_count": null
        },
        {
            "cell_type": "markdown",
            "source": [
                "Test.06.05.04. Check broken values for DimCrimeTypeKey in \\[dwh\\].\\[FactCrime\\]"
            ],
            "metadata": {
                "azdata_cell_guid": "4d6d01a9-96e1-467c-84bc-91062f9873c1"
            }
        },
        {
            "cell_type": "code",
            "source": [
                "from os import listdir\r\n",
                "from os.path import isfile, join\r\n",
                "import pandas as pd\r\n",
                "import numpy as np\r\n",
                "import pyodbc\r\n",
                "cnxn_dst = pyodbc.connect(\"Driver={SQL Server Native Client 11.0};\"\r\n",
                "                      \"Server=\"+CrimeStatistic_DWH_server_name+\";\"\r\n",
                "                      \"Database=\"+CrimeStatistic_DWH_db_name+\";\"\r\n",
                "                      \"Trusted_Connection=yes;\")   \r\n",
                "df_result = pd.read_sql_query(\"\"\"WITH t AS (\r\n",
                "SELECT N'DimCrimeTypeKey' AS [Key]\r\n",
                "\t , SUM(CASE WHEN fc.DimCrimeTypeKey IS NULL OR dg.DimCrimeTypeKey IS NULL THEN 1 ELSE 0 END) AS [NumberOfBrokenValues]\r\n",
                "FROM [dwh].[FactCrime] fc\r\n",
                "LEFT JOIN [dwh].[DimCrimeType] dg ON dg.DimCrimeTypeKey = fc.DimCrimeTypeKey)\r\n",
                "SELECT t.[Key]\r\n",
                "\t , t.[NumberOfBrokenValues]\r\n",
                "\t , CASE WHEN t.[NumberOfBrokenValues] = 0 THEN N'SUCCESS' ELSE N'FAILED' END AS [TestResult]\r\n",
                "FROM t\"\"\", cnxn_dst)\r\n",
                "df_result"
            ],
            "metadata": {
                "azdata_cell_guid": "966025e3-5b02-4ed1-855d-cf7c6913c43a"
            },
            "outputs": [],
            "execution_count": null
        },
        {
            "cell_type": "markdown",
            "source": [
                "**Subtask.06.06. Test** **Load\\_dwh\\_DimCountry.dtsx** **package**\n",
                "\n",
                "Test.06.06.01. Compare number of distinct CountryCode in \\[staging\\].\\[CountryRef\\] to \\[dwh\\].\\[DimGeography\\]"
            ],
            "metadata": {
                "azdata_cell_guid": "ea43de74-b138-47cb-b69e-e6237eb7ebb9"
            }
        },
        {
            "cell_type": "code",
            "source": [
                "from os import listdir\r\n",
                "from os.path import isfile, join\r\n",
                "import pandas as pd\r\n",
                "import numpy as np\r\n",
                "import pyodbc\r\n",
                "cnxn_dst = pyodbc.connect(\"Driver={SQL Server Native Client 11.0};\"\r\n",
                "                      \"Server=\"+CrimeStatistic_DWH_server_name+\";\"\r\n",
                "                      \"Database=\"+CrimeStatistic_DWH_db_name+\";\"\r\n",
                "                      \"Trusted_Connection=yes;\")   \r\n",
                "df_result = pd.read_sql_query(\"\"\"SELECT cr.[name] AS [CountryName_staging]\r\n",
                "\t , cr.alpha_3 AS [CountryCode_staging]\r\n",
                "\t , dg.Country AS [CountryName_dwh]\r\n",
                "\t , dg.CountryCode AS [CountryCode_dwh]\r\n",
                "\t , CASE WHEN dg.CountryCode IS NOT NULL THEN N'SUCCESS' ELSE N'FAILED' END AS [TestResult]\r\n",
                "FROM staging.CountryRef cr\r\n",
                "LEFT JOIN [dwh].[DimGeography] dg ON dg.CountryCode = cr.alpha_3\"\"\", cnxn_dst)\r\n",
                "df_result"
            ],
            "metadata": {
                "azdata_cell_guid": "b80eba98-5306-475f-9c97-eed9cf11bb26"
            },
            "outputs": [],
            "execution_count": null
        },
        {
            "cell_type": "markdown",
            "source": [
                "**Subtask.06.07. Test** **Load\\_dwh\\_DimCrimeType.dtsx** **package**\n",
                "\n",
                "Test.06.07.01. Compare number of distinct CrimeType in \\[staging\\].\\[uncrime\\_typed\\] to \\[dwh\\].\\[DimCrimeType\\]"
            ],
            "metadata": {
                "azdata_cell_guid": "cd23bea0-a5b5-4362-87d0-9a0c882ea8ca"
            }
        },
        {
            "cell_type": "code",
            "source": [
                "from os import listdir\r\n",
                "from os.path import isfile, join\r\n",
                "import pandas as pd\r\n",
                "import numpy as np\r\n",
                "import pyodbc\r\n",
                "cnxn_dst = pyodbc.connect(\"Driver={SQL Server Native Client 11.0};\"\r\n",
                "                      \"Server=\"+CrimeStatistic_DWH_server_name+\";\"\r\n",
                "                      \"Database=\"+CrimeStatistic_DWH_db_name+\";\"\r\n",
                "                      \"Trusted_Connection=yes;\")   \r\n",
                "df_result = pd.read_sql_query(\"\"\"WITH st AS \r\n",
                "(SELECT DISTINCT REPLACE(LEFT([FileName], CHARINDEX('.csv', [FileName])-1),'_',' ') AS CrimeType\r\n",
                "FROM [staging].[uncrime_typed]\r\n",
                "UNION ALL\r\n",
                "SELECT N'Unknown')\r\n",
                "SELECT st.CrimeType  AS [CrimeType_uncrime_typed]\r\n",
                "\t , dct.CrimeType AS [CrimeType_DimCrimeType]\r\n",
                "\t , CASE WHEN st.CrimeType IS NULL OR dct.CrimeType IS NULL THEN N'FAILED' ELSE N'SUCCESS' END AS [TestResult]\r\n",
                "FROM st\r\n",
                "FULL OUTER JOIN [dwh].[DimCrimeType] dct ON UPPER(dct.CrimeType) = UPPER(st.CrimeType)\r\n",
                "GROUP BY st.CrimeType, dct.CrimeType\"\"\", cnxn_dst)\r\n",
                "df_result"
            ],
            "metadata": {
                "azdata_cell_guid": "854c881d-6234-406e-8cf6-0bd1b9ffafa1"
            },
            "outputs": [],
            "execution_count": null
        },
        {
            "cell_type": "markdown",
            "source": [
                "**Subtask.06.08. Test** **Load\\_dwh\\_DimDate.dtsx** **package**\n",
                "\n",
                "Test.06.08.01. Check that \\[dwh\\].\\[DimDate\\] is not empty"
            ],
            "metadata": {
                "azdata_cell_guid": "7ecc1974-6856-4c5a-a88f-baa758a0c078"
            }
        },
        {
            "cell_type": "code",
            "source": [
                "from os import listdir\r\n",
                "from os.path import isfile, join\r\n",
                "import pandas as pd\r\n",
                "import numpy as np\r\n",
                "import pyodbc\r\n",
                "cnxn_dst = pyodbc.connect(\"Driver={SQL Server Native Client 11.0};\"\r\n",
                "                      \"Server=\"+CrimeStatistic_DWH_server_name+\";\"\r\n",
                "                      \"Database=\"+CrimeStatistic_DWH_db_name+\";\"\r\n",
                "                      \"Trusted_Connection=yes;\")   \r\n",
                "df_result = pd.read_sql_query(\"\"\"SELECT COUNT(1) AS [Row_count]\r\n",
                "\t, CASE WHEN COUNT(1) > 1 THEN N'SUCCESS' ELSE N'FAILED' END AS [TestResult] \r\n",
                "FROM [dwh].[DimDate]\"\"\", cnxn_dst)\r\n",
                "df_result"
            ],
            "metadata": {
                "azdata_cell_guid": "b849b12e-6e47-4ba0-a9f5-20aa8baf959e"
            },
            "outputs": [],
            "execution_count": null
        },
        {
            "cell_type": "markdown",
            "source": [
                "**Subtask.06.09. Test** **Main\\_DWH.dtsx** **package**"
            ],
            "metadata": {
                "azdata_cell_guid": "7bfe0bea-bd6d-4a88-bba2-7097719d5554"
            }
        },
        {
            "cell_type": "markdown",
            "source": [
                "**Subtask.06.10. Test** **Main.dtsx (common)** **package**"
            ],
            "metadata": {
                "azdata_cell_guid": "89f4760e-9dcb-4a27-ae02-44fdb05d637b"
            }
        },
        {
            "cell_type": "markdown",
            "source": [
                "**Subtask.06.11. Test** **Main\\_advanced.dtsx (advanced)** **package**"
            ],
            "metadata": {
                "azdata_cell_guid": "ba872e89-ea8e-4cc9-b22b-3b0a6d565c19"
            }
        }
    ]
}